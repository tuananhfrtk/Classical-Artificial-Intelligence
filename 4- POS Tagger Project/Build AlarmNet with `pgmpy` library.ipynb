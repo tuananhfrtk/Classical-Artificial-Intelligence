{
 "cells": [
  {
   "cell_type": "markdown",
   "metadata": {
    "toc": true
   },
   "source": [
    "<h1>Table of Contents<span class=\"tocSkip\"></span></h1>\n",
    "<div class=\"toc\"><ul class=\"toc-item\"><li><span><a href=\"#Intro-to-pgmpy-library\" data-toc-modified-id=\"Intro-to-pgmpy-library-1\"><span class=\"toc-item-num\">1&nbsp;&nbsp;</span>Intro to <code>pgmpy</code> library</a></span></li><li><span><a href=\"#Alarm-Bayes-Network-Schema\" data-toc-modified-id=\"Alarm-Bayes-Network-Schema-2\"><span class=\"toc-item-num\">2&nbsp;&nbsp;</span>Alarm Bayes Network Schema</a></span></li><li><span><a href=\"#Set-up-alarm-Bayes-Nets-using-pgmpy-library\" data-toc-modified-id=\"Set-up-alarm-Bayes-Nets-using-pgmpy-library-3\"><span class=\"toc-item-num\">3&nbsp;&nbsp;</span>Set up alarm Bayes Nets using <code>pgmpy</code> library</a></span></li><li><span><a href=\"#Provide-conditional-probability-distributions-from-the-network\" data-toc-modified-id=\"Provide-conditional-probability-distributions-from-the-network-4\"><span class=\"toc-item-num\">4&nbsp;&nbsp;</span>Provide conditional probability distributions from the network</a></span></li><li><span><a href=\"#Check-Bayes-Nets-model-and-probability-distributions\" data-toc-modified-id=\"Check-Bayes-Nets-model-and-probability-distributions-5\"><span class=\"toc-item-num\">5&nbsp;&nbsp;</span>Check Bayes Nets model and probability distributions</a></span></li><li><span><a href=\"#Make-the-inferences-using-VariableElimination-function\" data-toc-modified-id=\"Make-the-inferences-using-VariableElimination-function-6\"><span class=\"toc-item-num\">6&nbsp;&nbsp;</span>Make the inferences using <code>VariableElimination</code> function</a></span></li><li><span><a href=\"#Notes\" data-toc-modified-id=\"Notes-7\"><span class=\"toc-item-num\">7&nbsp;&nbsp;</span>Notes</a></span></li></ul></div>"
   ]
  },
  {
   "cell_type": "markdown",
   "metadata": {},
   "source": [
    "### Intro to `pgmpy` library\n",
    "\n",
    "[pgmpy](http://pgmpy.org/) is a python library for working with Probabilistic Graphical Models. This library enables users to build probabilistic graphical models and use its built-in functions to make inferences using algorithms, such as Bayes Network and Markov Network. Please refer to [this paper](https://conference.scipy.org/proceedings/scipy2015/pdfs/ankur_ankan.pdf) for a quick intro to pgmpy library."
   ]
  },
  {
   "cell_type": "code",
   "execution_count": null,
   "metadata": {},
   "outputs": [],
   "source": [
    "# install pgmpy library\n",
    "!pip install pgmpy==0.1.10"
   ]
  },
  {
   "cell_type": "code",
   "execution_count": null,
   "metadata": {},
   "outputs": [],
   "source": [
    "# import modules\n",
    "from pgmpy.models import BayesianModel\n",
    "from pgmpy.factors.discrete import TabularCPD\n",
    "from pgmpy.inference import VariableElimination"
   ]
  },
  {
   "cell_type": "markdown",
   "metadata": {},
   "source": [
    "### Alarm Bayes Network Schema\n",
    "\n",
    "<img src=\"network.png\" width=600 height=600 />"
   ]
  },
  {
   "cell_type": "markdown",
   "metadata": {},
   "source": [
    "### Set up alarm Bayes Nets using `pgmpy` library\n",
    "\n",
    "Once we imported the file, we can instantiate a `BayesianModel` to build our model as shown in the figure above.\n",
    "\n",
    "    `AlarmNet = BayesianModel()`\n",
    "\n",
    "Now we can add the nodes using `add_node(name)` into the model. As shown in the figure above, we will add five nodes as follows: `Burglary`, `Earthquake`, `Alarm`, `John calls`, and `Mary calls`.\n",
    "\n",
    "    `AlarmNet.add_node(\"Burglary\")`\n",
    "\n",
    "Next we can connect the nodes using `add_edge()` where the nodes are connected in the graph. This function takes 2 inputs, ie. parent node and child node.\n",
    "    \n",
    "    `AlarmNet.add_edge(\"temperature\",\"alarm\")`"
   ]
  },
  {
   "cell_type": "code",
   "execution_count": null,
   "metadata": {},
   "outputs": [],
   "source": [
    "# Instantiate PGMPY's Bayesian Model\n",
    "AlarmNet = BayesianModel()\n",
    "\n",
    "# Add the nodes\n",
    "AlarmNet.add_node(\"Burglary\")\n",
    "AlarmNet.add_node(\"Earthquake\")\n",
    "AlarmNet.add_node(\"Alarm\")\n",
    "AlarmNet.add_node(\"John calls\")\n",
    "AlarmNet.add_node(\"Mary calls\")\n",
    "\n",
    "# Connect the nodes\n",
    "AlarmNet.add_edge(\"Burglary\", \"Alarm\")\n",
    "AlarmNet.add_edge(\"Earthquake\", \"Alarm\")\n",
    "AlarmNet.add_edge(\"Alarm\", \"John calls\")\n",
    "AlarmNet.add_edge(\"Alarm\", \"Mary calls\")"
   ]
  },
  {
   "cell_type": "markdown",
   "metadata": {},
   "source": [
    "### Provide conditional probability distributions from the network\n",
    "\n",
    "Now that the graph has been set up, we can add the probability distributions by using PGMPY's `TabularCPD` function.\n",
    "\n",
    "This function takes the following inputs:\n",
    "- `variable`: the name of the node\n",
    "- `variable_card`: the number of elements in the probability distribution. 2 for a binary node, ie. `True` or `False`.\n",
    "- `values`: the probability distributions.\n",
    "- `evidences`: the parents of the node.\n",
    "- `evidence_card`: the dimensions of the probability distribution according to the number of parent nodes.\n",
    "\n",
    "For node 'Burglary' with two possible values, where P(+B)=0.999 and P(¬B)=0.001, we can set the probability with the following command:\n",
    "\n",
    "    cpd_burglary = TabularCPD('Burglary', 2, \n",
    "                               values=[[0.001], [0.999]])\n",
    "\n",
    "For this conditional probability distribution of P(John calls|Alarm):\n",
    "\n",
    "|  Burglary  |P(JohnCalls=true given Burglary)|\n",
    "| ------ | ----- |\n",
    "|  T   | 0.9|\n",
    "|  F   | 0.05| \n",
    "\n",
    "the command is:\n",
    "\n",
    "    cpd_js = TabularCPD('John calls', 2, \n",
    "                        values=[[0.95, 0.1], [ 0.05, 0.9]], \n",
    "                        evidence=['Alarm'], evidence_card=[2])\n",
    "\n",
    "Finally, in a 3-nodes relationship where P(Alarm|Burglary, Earthquake):\n",
    "\n",
    "| Burglary   |  Earthquake  |P(Alarm=true given Burglary and Earthquake)|\n",
    "| --- | --- |:----:|\n",
    "|T|T|0.95|\n",
    "|T|F|0.94|\n",
    "|F|T|0.29|\n",
    "|F|F|0.001|\n",
    "\n",
    "the command is:\n",
    "\n",
    "    cpd_abc = TabularCPD('A', 2, \n",
    "                         values=[[0.999, 0.71, 0.06, 0.05], [0.001, 0.29, 0.94, 0.95]], \n",
    "                         evidence=['G', 'T'], evidence_card=[2, 2])\n"
   ]
  },
  {
   "cell_type": "code",
   "execution_count": null,
   "metadata": {},
   "outputs": [],
   "source": [
    "cpd_burglary = TabularCPD(variable='Burglary', \n",
    "                          variable_card=2,\n",
    "                          values=[[.999], [0.001]])\n",
    "\n",
    "cpd_earthquake = TabularCPD(variable='Earthquake', \n",
    "                            variable_card=2,\n",
    "                            values=[[0.998], [0.002]])\n",
    "\n",
    "cpd_alarm = TabularCPD(variable='Alarm', \n",
    "                       variable_card=2,\n",
    "                       values=[[0.999, 0.71, 0.06, 0.05],\n",
    "                               [0.001, 0.29, 0.94, 0.95]],\n",
    "                       evidence=['Burglary', 'Earthquake'],\n",
    "                       evidence_card=[2, 2])\n",
    "\n",
    "cpd_johncalls = TabularCPD(variable='John calls', \n",
    "                           variable_card=2,\n",
    "                           values=[[0.95, 0.1],\n",
    "                                   [0.05, 0.9]],\n",
    "                           evidence=['Alarm'], \n",
    "                           evidence_card=[2])\n",
    "\n",
    "cpd_marycalls = TabularCPD(variable='Mary calls', \n",
    "                           variable_card=2,\n",
    "                           values=[[0.1, 0.7], \n",
    "                                   [0.9, 0.3]],\n",
    "                           evidence=['Alarm'], \n",
    "                           evidence_card=[2])\n",
    "\n",
    "# Associate CPDs with the model structure\n",
    "AlarmNet.add_cpds(cpd_burglary, \n",
    "                     cpd_earthquake, \n",
    "                     cpd_alarm, \n",
    "                     cpd_johncalls, \n",
    "                     cpd_marycalls)"
   ]
  },
  {
   "cell_type": "markdown",
   "metadata": {},
   "source": [
    "### Check Bayes Nets model and probability distributions"
   ]
  },
  {
   "cell_type": "code",
   "execution_count": null,
   "metadata": {},
   "outputs": [],
   "source": [
    "# Checking the distributions validity\n",
    "AlarmNet.check_model()"
   ]
  },
  {
   "cell_type": "code",
   "execution_count": null,
   "metadata": {},
   "outputs": [],
   "source": [
    "# Get the nodes of the model\n",
    "AlarmNet.nodes()"
   ]
  },
  {
   "cell_type": "code",
   "execution_count": null,
   "metadata": {},
   "outputs": [],
   "source": [
    "# Get the edges of the model\n",
    "AlarmNet.edges()"
   ]
  },
  {
   "cell_type": "code",
   "execution_count": null,
   "metadata": {},
   "outputs": [],
   "source": [
    "# Check the independencies of a node\n",
    "AlarmNet.local_independencies('Burglary')"
   ]
  },
  {
   "cell_type": "code",
   "execution_count": null,
   "metadata": {},
   "outputs": [],
   "source": [
    "# List all conditional independencies\n",
    "AlarmNet.get_independencies()"
   ]
  },
  {
   "cell_type": "markdown",
   "metadata": {},
   "source": [
    "### Make the inferences using `VariableElimination` function\n",
    "\n",
    "1. Inference for a `marginal probability` of the \"Alarm\" node being True:\n",
    "```\n",
    "    solver = VariableElimination(AlarmNet)\n",
    "    marginal_prob = solver.query(variables=['Alarm'], \n",
    "                                 joint=False)\n",
    "    prob = marginal_prob['faulty alarm'].values\n",
    "```\n",
    "  \n",
    "2. Inference for a `conditional probability`, such as P('A' = false | 'B' = true, 'C' = False)):\n",
    "```\n",
    "    solver = VariableElimination(AlarmNet)\n",
    "    conditional_prob = solver.query(variables=['A'],\n",
    "                                    evidence={'B':1,'C':0}, \n",
    "                                    joint=False)\n",
    "    prob = conditional_prob['A'].values\n",
    "```    \n",
    "\n",
    "Both functions return two probabilities corresponding to `[False, True]` case. In order to get the `True` probability, we can specify `prob[1]` and `prob[0]` for `False` probability.\n"
   ]
  },
  {
   "cell_type": "code",
   "execution_count": null,
   "metadata": {},
   "outputs": [],
   "source": [
    "# marginal probability of the alarm node\n",
    "solver = VariableElimination(AlarmNet)\n",
    "marginal_prob = solver.query(variables=['Alarm'], joint=False)\n",
    "prob_alarm = marginal_prob['Alarm'].values\n",
    "prob_alarm"
   ]
  },
  {
   "cell_type": "code",
   "execution_count": null,
   "metadata": {},
   "outputs": [],
   "source": [
    "# conditional probability that the alarm will be triggered when there is a burglary, but no earthquake\n",
    "solver = VariableElimination(AlarmNet)\n",
    "conditional_prob_abe = solver.query(variables=['Alarm'], evidence={'Burglary':1,'Earthquake':0}, joint=False)\n",
    "prob_cond = conditional_prob_abe['Alarm'].values\n",
    "prob_cond"
   ]
  },
  {
   "cell_type": "code",
   "execution_count": null,
   "metadata": {},
   "outputs": [],
   "source": [
    "# conditional probability the alarm rings when both John and Mary call\n",
    "solver = VariableElimination(AlarmNet)\n",
    "conditional_prob_ajm = solver.query(variables=['Alarm'], evidence={'Mary calls':1,'John calls':1}, joint=False)\n",
    "prob_cond = conditional_prob_ajm['Alarm'].values\n",
    "prob_cond # only take the True value"
   ]
  },
  {
   "cell_type": "markdown",
   "metadata": {},
   "source": [
    "### Notes\n",
    "\n",
    "`pgmpy's variable elimination` function sometimes does not produce accurate posterior probability distributions. It is advisable to understand the conditional relationships of the query, hidden, and evidence nodes and enumerate them.\n",
    "\n",
    "From the example in the lecture videos, if we want to compute P(+b|+j, +m), we can enumerate them as:\n",
    "\n",
    "        P(+b|+j, +m) = P(+b, +j, +m) / P(+j, +m)\n",
    "        \n",
    "        # adding the sum of hidden variables\n",
    "        P(+b, +j, +m) = sum_of_e sum_of_a P(+b).P(e).P(a|+b, e).P(+j|a).P(+m|a)\n",
    "        P(+j, +m)     = sum_of_e sum_of_a sum_of_b P(b).P(e).P(a|b, e).P(+j|a).P(+m|a)\n",
    "        \n",
    "For more examples, please refer to `pgmpy`'s [Bayes Nets notebook](https://github.com/pgmpy/pgmpy_notebook/blob/master/notebooks/2.%20Bayesian%20Networks.ipynb) on its [Github repo](https://github.com/pgmpy/pgmpy)."
   ]
  },
  {
   "cell_type": "code",
   "execution_count": null,
   "metadata": {},
   "outputs": [],
   "source": []
  }
 ],
 "metadata": {
  "kernelspec": {
   "display_name": "Python 3",
   "language": "python",
   "name": "python3"
  },
  "language_info": {
   "codemirror_mode": {
    "name": "ipython",
    "version": 3
   },
   "file_extension": ".py",
   "mimetype": "text/x-python",
   "name": "python",
   "nbconvert_exporter": "python",
   "pygments_lexer": "ipython3",
   "version": "3.6.3"
  },
  "toc": {
   "base_numbering": 1,
   "nav_menu": {},
   "number_sections": true,
   "sideBar": true,
   "skip_h1_title": false,
   "title_cell": "Table of Contents",
   "title_sidebar": "Contents",
   "toc_cell": true,
   "toc_position": {
    "height": "calc(100% - 180px)",
    "left": "10px",
    "top": "150px",
    "width": "258.797px"
   },
   "toc_section_display": true,
   "toc_window_display": true
  }
 },
 "nbformat": 4,
 "nbformat_minor": 4
}
