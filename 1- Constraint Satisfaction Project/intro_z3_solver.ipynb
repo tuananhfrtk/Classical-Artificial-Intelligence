{
 "cells": [
  {
   "cell_type": "markdown",
   "metadata": {
    "toc": true
   },
   "source": [
    "<h1>Table of Contents<span class=\"tocSkip\"></span></h1>\n",
    "<div class=\"toc\"><ul class=\"toc-item\"><li><span><a href=\"#Installing-z3-with-Python-Wrapper\" data-toc-modified-id=\"Installing-z3-with-Python-Wrapper-1\"><span class=\"toc-item-num\">1&nbsp;&nbsp;</span>Installing z3 with Python Wrapper</a></span></li><li><span><a href=\"#z3-Solver-workflow-and-basic-syntax\" data-toc-modified-id=\"z3-Solver-workflow-and-basic-syntax-2\"><span class=\"toc-item-num\">2&nbsp;&nbsp;</span>z3 Solver workflow and basic syntax</a></span><ul class=\"toc-item\"><li><span><a href=\"#Declaring-the-variables\" data-toc-modified-id=\"Declaring-the-variables-2.1\"><span class=\"toc-item-num\">2.1&nbsp;&nbsp;</span>Declaring the variables</a></span></li><li><span><a href=\"#Adding-the-contraints\" data-toc-modified-id=\"Adding-the-contraints-2.2\"><span class=\"toc-item-num\">2.2&nbsp;&nbsp;</span>Adding the contraints</a></span></li><li><span><a href=\"#Defining-the-domains\" data-toc-modified-id=\"Defining-the-domains-2.3\"><span class=\"toc-item-num\">2.3&nbsp;&nbsp;</span>Defining the domains</a></span></li><li><span><a href=\"#Solving-the-equations\" data-toc-modified-id=\"Solving-the-equations-2.4\"><span class=\"toc-item-num\">2.4&nbsp;&nbsp;</span>Solving the equations</a></span></li></ul></li><li><span><a href=\"#Useful-links-to-z3-documentations\" data-toc-modified-id=\"Useful-links-to-z3-documentations-3\"><span class=\"toc-item-num\">3&nbsp;&nbsp;</span>Useful links to z3 documentations</a></span></li></ul></div>"
   ]
  },
  {
   "cell_type": "markdown",
   "metadata": {},
   "source": [
    "## Installing z3 with Python Wrapper\n",
    "1. Install z3 library using pip: `pip install z3-solver`\n",
    "2. import z3 library: `from z3 import *`\n",
    "3. print z3 version to check installation: `print(z3.get_version_string())`"
   ]
  },
  {
   "cell_type": "code",
   "execution_count": null,
   "metadata": {},
   "outputs": [],
   "source": [
    "!pip install z3-solver"
   ]
  },
  {
   "cell_type": "code",
   "execution_count": null,
   "metadata": {},
   "outputs": [],
   "source": [
    "from z3 import *\n",
    "print(f\"z3 version: {z3.get_version_string()}\")"
   ]
  },
  {
   "cell_type": "markdown",
   "metadata": {},
   "source": [
    "## z3 Solver workflow and basic syntax\n",
    "\n",
    "1. Instantiate Z3 Solver object.\n",
    "2. Create a set of variables.\n",
    "3. Add constraints to the solver.\n",
    "4. Check if all conditions are valid.\n",
    "5. Solve the problem with Z3 solver."
   ]
  },
  {
   "cell_type": "markdown",
   "metadata": {},
   "source": [
    "### Declaring the variables\n",
    "\n",
    "z3 supports different kind of data types, such as integers, real numbers, and booleans. To create a variable, simply set a variable name with the data type such as:\n",
    "```\n",
    "x = Int('x')\n",
    "y = Real('y')\n",
    "z = Bool('z')\n",
    "```\n",
    "\n",
    "You can also create multiple variables in one line with the following syntax:\n",
    "```\n",
    "x, y, z = Ints('x y z')\n",
    "x, y, z = Reals('x y z')\n",
    "x, y, z = Bools('x y z')\n",
    "```\n",
    "Please note that the data type declaration should be plural."
   ]
  },
  {
   "cell_type": "code",
   "execution_count": null,
   "metadata": {},
   "outputs": [],
   "source": [
    "X = Int('X')\n",
    "print(f\"X class name: {type(X)}\")\n",
    "print(f\"X variable type: {X.sort()}\")"
   ]
  },
  {
   "cell_type": "code",
   "execution_count": null,
   "metadata": {},
   "outputs": [],
   "source": [
    "x, y, z = Reals('x y z')\n",
    "print(f\"y class name: {type(y)}\")\n",
    "print(f\"y variable type: {y.sort()}\")"
   ]
  },
  {
   "cell_type": "markdown",
   "metadata": {},
   "source": [
    "### Adding the contraints\n",
    "\n",
    "The `Solver()` [class](https://z3prover.github.io/api/html/classz3py_1_1_solver.html) has a method called `add()`. This method asserts constraints into the solver.\n",
    "\n",
    "First, to add the constraints, first we need to instantiate `Solver()` method and define the variables. Next, we can use `add()` method to add the constraints as follows:\n",
    "```\n",
    "solver = Solver()\n",
    "solver.add(2*x + 3*y == 5)\n",
    "solver.add(y + 3*z > 3)\n",
    "solver.add(x - 3*z <= 10)\n",
    "```"
   ]
  },
  {
   "cell_type": "code",
   "execution_count": null,
   "metadata": {},
   "outputs": [],
   "source": [
    "solver = Solver()\n",
    "solver.add(2*x + 3*y == 5)\n",
    "solver.add(y + 3*z > 3)\n",
    "solver.add(x - 3*z <= 10)\n",
    "print(f\"A set of constraints has been added\")"
   ]
  },
  {
   "cell_type": "markdown",
   "metadata": {},
   "source": [
    "### Defining the domains\n",
    "\n",
    "There is no specific syntax in z3 to add the domains. However, defining the domains is similar to adding the constraints. For example, to define the domain for `x` variable to be between -5 and 5 and `y` variable to be bigger than 0, we can use `add()` method as follows:\n",
    "```\n",
    "solver.add(x > -5, x < 5)\n",
    "solver.add(y > 0)\n",
    "```"
   ]
  },
  {
   "cell_type": "code",
   "execution_count": null,
   "metadata": {},
   "outputs": [],
   "source": [
    "solver.add(x > -5, x < 5)\n",
    "solver.add(y > 0)"
   ]
  },
  {
   "cell_type": "markdown",
   "metadata": {},
   "source": [
    "### Solving the equations\n",
    "\n",
    "`Solver` class has two useful methods to solve the Constraints Satisfaction Problems. The two classes are:\n",
    "- `check()` returns **sat** if the current constraints are satisfiable, otherwise returns **unsat**.\n",
    "- `model()` returns the solutions, if the `check()` method returns **sat**.\n",
    "\n",
    "To assess the variable solutions, we can use the following syntax from the model:\n",
    "```\n",
    "Access to model solution:\n",
    "solver.model()\n",
    "\n",
    "Access to individual variables:\n",
    "solver.model()[x]\n",
    "solver.model()[y]\n",
    "solver.model()[z]\n",
    "```"
   ]
  },
  {
   "cell_type": "code",
   "execution_count": null,
   "metadata": {},
   "outputs": [],
   "source": [
    "print(f\"Check solver satisfiability: {solver.check()}\")"
   ]
  },
  {
   "cell_type": "code",
   "execution_count": null,
   "metadata": {},
   "outputs": [],
   "source": [
    "print(f\"Solver solutions: {solver.model()}\")"
   ]
  },
  {
   "cell_type": "code",
   "execution_count": null,
   "metadata": {},
   "outputs": [],
   "source": [
    "print(\"Access to individual variables:\")\n",
    "print(f\"x value is: {solver.model()[x]}\")\n",
    "print(f\"y value is: {solver.model()[y]}\")\n",
    "print(f\"z value is: {solver.model()[z]}\")"
   ]
  },
  {
   "cell_type": "markdown",
   "metadata": {},
   "source": [
    "## Useful links to z3 documentations\n",
    "\n",
    "- [z3 API in Python](https://ericpony.github.io/z3py-tutorial/guide-examples.htm) \n",
    "- [z3 Advanced Topics](https://ericpony.github.io/z3py-tutorial/advanced-examples.htm)"
   ]
  },
  {
   "cell_type": "code",
   "execution_count": null,
   "metadata": {},
   "outputs": [],
   "source": []
  }
 ],
 "metadata": {
  "kernelspec": {
   "display_name": "Python 3",
   "language": "python",
   "name": "python3"
  },
  "language_info": {
   "codemirror_mode": {
    "name": "ipython",
    "version": 3
   },
   "file_extension": ".py",
   "mimetype": "text/x-python",
   "name": "python",
   "nbconvert_exporter": "python",
   "pygments_lexer": "ipython3",
   "version": "3.6.3"
  },
  "toc": {
   "base_numbering": 1,
   "nav_menu": {
    "height": "147px",
    "width": "190px"
   },
   "number_sections": true,
   "sideBar": true,
   "skip_h1_title": false,
   "title_cell": "Table of Contents",
   "title_sidebar": "Contents",
   "toc_cell": true,
   "toc_position": {},
   "toc_section_display": true,
   "toc_window_display": false
  }
 },
 "nbformat": 4,
 "nbformat_minor": 4
}
